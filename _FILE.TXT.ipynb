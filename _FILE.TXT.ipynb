{
 "cells": [
  {
   "cell_type": "markdown",
   "id": "ca455784-0eb0-4cbe-bbfa-5c0e29b57afd",
   "metadata": {},
   "source": [
    "1 . What is the difference between interpreted and compiled language in python."
   ]
  },
  {
   "cell_type": "markdown",
   "id": "8331ef3e-3b12-4bd1-b203-2c523a0a31c8",
   "metadata": {},
   "source": [
    "* In Interpreted language code is executed line by line , as executed line by line it is slower and easy to debug any code.\n",
    "In compiled language The entire code is translated into machine code by a compiler before execution, it is faster because it runs the code directly and harder to debug."
   ]
  },
  {
   "cell_type": "markdown",
   "id": "1862c873-5b33-41d4-9d9a-b41ca38e5391",
   "metadata": {},
   "source": [
    "2. What is exception handelling in python ?\n",
    "* Exception handling in Python is a mechanism to gracefully manage runtime errors, preventing program crashes."
   ]
  },
  {
   "cell_type": "markdown",
   "id": "dcd10cac-cd1f-4688-82b3-bc58e1701d11",
   "metadata": {},
   "source": [
    "3. What is the purpose of finally block in exception handeling ?\n",
    "* The purpose of the finally block in exception handling is to ensure that a specific block of code is always executed, regardless of whether an exception is thrown or not within the try block."
   ]
  },
  {
   "cell_type": "markdown",
   "id": "98b03e4a-b088-4bd3-8806-f650d632c217",
   "metadata": {},
   "source": [
    "4.what is logging in python?\n",
    "* Logging in Python refers to the process of recording events that occur during the execution of a program. It is a crucial practice for debugging, monitoring, and understanding the behavior of software applications. The Python logging module provides a flexible and powerful framework for generating and managing log messages."
   ]
  },
  {
   "cell_type": "markdown",
   "id": "a32cee2f-9e5e-4336-b7e9-e54ff020b3ae",
   "metadata": {},
   "source": [
    "5.what is the significance of the _del_ method in python?\n",
    "* The _del_ method is a special method in Python that is called when an object is about to be destroyed. It allows you to define specific cleanup actions that should be taken when an object is garbage collected"
   ]
  },
  {
   "cell_type": "markdown",
   "id": "ecb65bba-1a03-4678-9d13-4bbdfbb980c4",
   "metadata": {},
   "source": [
    "6.How can you handle multiple exceptions in python.\n",
    "* In Python, multiple exceptions can be handled using several approaches within a try...except block. The most common methods include using a single except block with a tuple of exceptions or using separate except blocks for each exception type."
   ]
  },
  {
   "cell_type": "markdown",
   "id": "4e8320d9-432f-4ea3-9b72-a48c2084f46e",
   "metadata": {},
   "source": [
    "7.what is the difference between import and from... import in python\n",
    "* import module_name: This statement imports the entire module. To access items within the module (functions, classes, variables), you must use the module name as a prefix. For example:\n",
    "Python\n",
    "\n",
    "import math\n",
    "result = math.sqrt(25) # Accessing the sqrt function using the module name\n",
    "from module_name import item_name: This statement imports specific items from a module directly into the current namespace. You can then use these items without the module name prefix."
   ]
  },
  {
   "cell_type": "markdown",
   "id": "8e86edc0-afc9-4b34-99da-b06e8737ddd0",
   "metadata": {},
   "source": [
    "8.what is the purpose of with statement  when handelling files in python?\n",
    "* The with statement in Python is used for resource management and exception handling. It simplifies working with resources like files, network connections and database connections by ensuring they are properly acquired and released. When we open a file, we need to close it ourself using close(). But if something goes wrong before closing, the file might stay open, causing issues. Using with open() automatically closes the file when we’re done, even if an error happens."
   ]
  },
  {
   "cell_type": "markdown",
   "id": "d3e23aa4-59a7-4c55-9b4f-7f1f1a6182b4",
   "metadata": {},
   "source": [
    "9. What is the difference between multireading and multiprocessing?\n",
    "* Multithreading creates multiple threads within a single process, allowing for concurrent execution within that process, while multiprocessing creates multiple processes, each with its own resources, enabling parallel execution across multiple processors."
   ]
  },
  {
   "cell_type": "markdown",
   "id": "76986734-3526-4f5e-be69-7a6fc5afe5ce",
   "metadata": {},
   "source": [
    "10. What are the advantages of using logging in a program?\n",
    "* Logging offers significant advantages in software development, including improved debugging, easier troubleshooting, enhanced system observability, and better communication between developers and administrators. It provides a record of events, helping identify issues, understand system behavior, and optimize performance."
   ]
  },
  {
   "cell_type": "markdown",
   "id": "22d22255-29ee-4e2f-8c1c-a24b8f62e601",
   "metadata": {},
   "source": [
    "11.  What is memory management in python?\n",
    "* Memory management in Python is the process of allocating and deallocating memory for objects.Python's memory management is designed to be efficient, allowing developers to focus on writing code without needing to manually manage memory allocation and deallocation."
   ]
  },
  {
   "cell_type": "markdown",
   "id": "956026ef-8769-4e08-bac6-f88d43774aba",
   "metadata": {},
   "source": [
    "12. What are the basic step involved in exception handelling in python ?\n",
    "* The basic steps in exception handelling is using\n",
    " * try block\n",
    "* Except block\n",
    "*  Else block\n",
    "* Finally block"
   ]
  },
  {
   "cell_type": "markdown",
   "id": "a499cd06-09d7-458b-bae3-4499fef65458",
   "metadata": {},
   "source": [
    "13.  Why is memory management important in python?\n",
    "* Memory management is important in Python for efficient resource utilization and program stability. Python automatically handles memory allocation and deallocation through techniques like reference counting and garbage collection. Efficient memory management prevents memory leaks, where unused memory is not released, and reduces the risk of program crashes due to excessive memory consumption. It also improves program performance by ensuring that memory is used effectively, especially when dealing with large datasets or complex operations."
   ]
  },
  {
   "cell_type": "markdown",
   "id": "220a76f2-ec63-47aa-a223-f23ef01c2e85",
   "metadata": {},
   "source": [
    "14. What is the role of try and except in exception handelling in python?\n",
    " * Role of try and except block-\n",
    "try block: You place the code that might raise an exception here.\n",
    "\n",
    "except block: You handle the exception here — what the program should do if an error occurs.\n"
   ]
  },
  {
   "cell_type": "markdown",
   "id": "72b3c755-9750-469c-bce4-685191946871",
   "metadata": {},
   "source": [
    "15. How does python garbage system collection work?\n",
    "* Python garbage system collection works using reference counting and generational garbage collection. Reference counting is the primary mechanism, where each object has a count of how many other objects reference it. When an object's reference count drops to zero, it's deallocated. Generational garbage collection is used to handle circular references and other cases where reference counting alone is insufficient."
   ]
  },
  {
   "cell_type": "markdown",
   "id": "569073ab-9b86-4f3e-887e-3e32391cb9ff",
   "metadata": {},
   "source": [
    "16. What is the purpose of else block in exception handelling?\n",
    "* The 'else' block is executed when there are no exceptions raised within the try block. The 'else' block is useful when you want to perform specific actions when no exceptions occur"
   ]
  },
  {
   "cell_type": "markdown",
   "id": "f48d1a9e-7838-4d79-b257-0e172137a360",
   "metadata": {},
   "source": [
    "17. What are the common logging levels in python?\n",
    "* There are five built-in levels of the log message.  \n",
    "\n",
    "Debug: These are used to give Detailed information, typically of interest only when diagnosing problems.\n",
    "\n",
    "Info: These are used to confirm that things are working as expected\n",
    "\n",
    "Warning: These are used as an indication that something unexpected happened, or is indicative of some problem in the near future\n",
    "\n",
    "Error: This tells that due to a more serious problem, the software has not been able to perform some function\n",
    "\n",
    "Critical: This tells serious error, indicating that the program itself may be unable to continue running"
   ]
  },
  {
   "cell_type": "markdown",
   "id": "d255f1f5-bda8-4bd1-bf7a-b9284ef9d0f6",
   "metadata": {},
   "source": [
    "18.What is the difference between os.fork()and multiprocessing in python?\n",
    "\n",
    "* The difference between os.fork() and the multiprocessing module in Python lies in abstraction level, portability, and ease of use:\n",
    "\n",
    "1. os.fork()\n",
    "Low-level system call: Directly creates a child process by duplicating the current process.\n",
    "\n",
    "Platform-specific: Available only on Unix-like systems (Linux, macOS); not available on Windows.\n",
    "\n",
    "No automatic data sharing or communication tools: You have to use pipes, sockets, or shared memory manually.\n",
    "\n",
    "Use case: More control over how processes behave, but requires more boilerplate and error handling.\n",
    "\n",
    "2. multiprocessing module\n",
    "High-level API: Provides an easier interface for creating and managing separate processes.\n",
    "\n",
    "Cross-platform: Works on both Unix and Windows.\n",
    "\n",
    "Built-in communication tools: Provides Queue, Pipe, Value, Array, etc., for inter-process communication and synchronization.\n",
    "\n",
    "Use case: Preferred for parallel processing tasks like data processing or CPU-bound operations\n"
   ]
  },
  {
   "cell_type": "markdown",
   "id": "5e0fe6e0-405c-455b-aed3-e37c45e0b0b8",
   "metadata": {},
   "source": [
    "19. What is the importance of closing a file in python?\n",
    "* Closing files in Python is an essential practice that helps maintain data integrity, prevent resource leaks, and ensure the reliability of your applications. By mastering file handling techniques, you can write more robust and efficient Python code that effectively manages file resources."
   ]
  },
  {
   "cell_type": "markdown",
   "id": "8af08d3d-76da-495c-8d09-7a1e82684b42",
   "metadata": {},
   "source": [
    "20. What is the difference between file.read() and file.readline() in python?\n",
    "*  File.read() reads Entire file or specified number of bytes .Reading the whole file content at once, or a specific chunk of data.\n",
    "* File.readline() reads single line at a time and Reading a file line by line, processing each line individually"
   ]
  },
  {
   "cell_type": "markdown",
   "id": "298334f6-5f25-416d-b999-b71dafabb212",
   "metadata": {},
   "source": [
    "21. What is the logging module in python used?\n",
    "* The logging module in Python is used to record events that occur during program execution, helping with debugging, troubleshooting, and monitoring. It allows developers to track errors, warnings, informational messages, and other events, providing valuable insights into application behavior and performance.\n"
   ]
  },
  {
   "cell_type": "markdown",
   "id": "22f58cbf-5fbf-4a23-a454-ca28e6bc6569",
   "metadata": {},
   "source": [
    "22. What is the os module in python used for file handeling?\n",
    "* Python os Module. Python has a built-in os module with methods for interacting with the operating system, like creating files and directories, management of files and directories, input, output, environment variables, process management, etc. The os module has the following set of methods and constants"
   ]
  },
  {
   "cell_type": "markdown",
   "id": "1d754d43-ff05-4c92-8e62-709dd35b36b5",
   "metadata": {},
   "source": [
    "23. What are the challenges associated with memory in python?\n",
    "* Python automatically manages memory through garbage collection, which reclaims memory occupied by objects no longer in use. However, the garbage collection process can introduce performance overhead, especially with frequent or large-scale memory allocations and deallocations.\n",
    "Despite garbage collection, memory leaks can still occur if objects are not properly deallocated, such as in cases of circular references or when external resources are not released. Over time, these leaks can accumulate, leading to increased memory usage and potential performance degradation."
   ]
  },
  {
   "cell_type": "markdown",
   "id": "22c6d480-5ed2-4b07-a3e3-57ba8187301c",
   "metadata": {},
   "source": [
    "24. How do you raise exception manually in python? \n",
    "* We can use raise exception to raise a exception manually.\n",
    "age = -5\n",
    "\n",
    "if age < 0:\n",
    "    raise Exception(\"Age cannot be negative\")"
   ]
  },
  {
   "cell_type": "markdown",
   "id": "6e2ab177-a38a-409d-9def-954ee28b2ea6",
   "metadata": {},
   "source": [
    " 25. Why it is important to use multi threading in certain application?\n",
    "* It is important to use multi threading in certain applications because of its merits \n",
    "Efficient resource use: Threads share the same memory space, making context switching faster than in multiprocessing.\n",
    "\n",
    "Parallel task handling: It allows you to run multiple operations (e.g., downloading files, updating UI) at the same time"
   ]
  },
  {
   "cell_type": "code",
   "execution_count": null,
   "id": "62033c43-22c5-4a59-96c9-75e97ceda96a",
   "metadata": {},
   "outputs": [],
   "source": [
    "#                PRACTICAL QUESTION"
   ]
  },
  {
   "cell_type": "code",
   "execution_count": null,
   "id": "f073fc37-f3ae-4ef7-a17d-7795c3236272",
   "metadata": {},
   "outputs": [],
   "source": [
    "# 1. How can you open a file for writing in python and write a string to it?"
   ]
  },
  {
   "cell_type": "code",
   "execution_count": 6,
   "id": "52da7c5f-2b43-4c58-aee9-0eb375fff141",
   "metadata": {},
   "outputs": [],
   "source": [
    "with open('example.txt', 'w') as file:\n",
    "    # Write a string to the file\n",
    "    file.write('Hello, world!')"
   ]
  },
  {
   "cell_type": "code",
   "execution_count": null,
   "id": "cc4d729e-188a-4990-91bf-729461ed8fc9",
   "metadata": {},
   "outputs": [],
   "source": [
    "#2 . Write a python program to read the contestents of a file and read each line."
   ]
  },
  {
   "cell_type": "code",
   "execution_count": 4,
   "id": "8785ca3a-f258-4761-a740-1d0b62544916",
   "metadata": {},
   "outputs": [
    {
     "name": "stdout",
     "output_type": "stream",
     "text": [
      "Error: File 'contestants.txt' not found.\n"
     ]
    }
   ],
   "source": [
    "def read_contestants(file_path):\n",
    "    try:\n",
    "        with open(file_path, 'r') as file:\n",
    "            print(\"Contestants List:\")\n",
    "            for line_number, line in enumerate(file, start=1):\n",
    "                print(f\"{line_number}: {line.strip()}\")\n",
    "    except FileNotFoundError:\n",
    "        print(f\"Error: File '{file_path}' not found.\")\n",
    "    except IOError:\n",
    "        print(f\"Error: Could not read the file '{file_path}'.\")\n",
    "\n",
    "# Example usage\n",
    "file_name = \"contestants.txt\"  # Replace this with the actual file path\n",
    "read_contestants(file_name)\n"
   ]
  },
  {
   "cell_type": "code",
   "execution_count": null,
   "id": "d7610fcf-15ae-4269-9290-5187e51db2bd",
   "metadata": {},
   "outputs": [],
   "source": [
    "#3. How would you handle a case where thw file dosent exist while trying to open it for reading."
   ]
  },
  {
   "cell_type": "code",
   "execution_count": 2,
   "id": "5ef39304-f696-4908-b6e1-c8be30e02ae4",
   "metadata": {},
   "outputs": [
    {
     "name": "stdout",
     "output_type": "stream",
     "text": [
      "The file does not exist. Please check the filename and try again.\n"
     ]
    }
   ],
   "source": [
    "try:\n",
    "    # Try to open the file for reading\n",
    "    with open(\"myfile.txt\", \"r\") as file:\n",
    "        content = file.read()\n",
    "        print(content)\n",
    "except FileNotFoundError:\n",
    "    # What to do if the file doesn't exist\n",
    "    print(\"The file does not exist. Please check the filename and try again.\")\n"
   ]
  },
  {
   "cell_type": "code",
   "execution_count": null,
   "id": "aff68d7e-2655-46b2-aeb9-dd91aa20c02f",
   "metadata": {},
   "outputs": [],
   "source": [
    "#4. write a python script that read from one file and write its content to another file."
   ]
  },
  {
   "cell_type": "code",
   "execution_count": 23,
   "id": "949e535d-50c5-4675-9bd6-6ad4bdaa33e6",
   "metadata": {},
   "outputs": [
    {
     "name": "stdout",
     "output_type": "stream",
     "text": [
      "File copied successfully.\n"
     ]
    }
   ],
   "source": [
    "\n",
    "input_file = \"example.txt\"\n",
    "output_file = \"vinay.txt\"\n",
    "\n",
    "try:\n",
    "    # Open the input file for reading\n",
    "    with open(input_file, \"r\") as infile:\n",
    "        content = infile.read()  # Read the entire content\n",
    "\n",
    "    # Open the output file for writing\n",
    "    with open(output_file, \"w\") as outfile:\n",
    "        outfile.write(content)  # Write the content to the output file\n",
    "\n",
    "    print(\"File copied successfully.\")\n",
    "\n",
    "except FileNotFoundError:\n",
    "    print(f\"The file '{input_file}' was not found.\")\n",
    "\n",
    "except Exception as e:\n",
    "    print(f\"An error occurred: {e}\")\n"
   ]
  },
  {
   "cell_type": "code",
   "execution_count": null,
   "id": "b33789a9-8eba-46f1-a49a-66f556bc060a",
   "metadata": {},
   "outputs": [],
   "source": [
    "#5.How would you catch and handle division by zero error in python."
   ]
  },
  {
   "cell_type": "code",
   "execution_count": 25,
   "id": "5b151a84-3847-429a-9616-27904b858cc0",
   "metadata": {},
   "outputs": [
    {
     "name": "stdin",
     "output_type": "stream",
     "text": [
      "Enter the numerator:  5,7\n"
     ]
    },
    {
     "name": "stdout",
     "output_type": "stream",
     "text": [
      "Error: Please enter valid numbers.\n"
     ]
    }
   ],
   "source": [
    "try:\n",
    "    \n",
    "    numerator = int(input(\"Enter the numerator: \"))\n",
    "    denominator = int(input(\"Enter the denominator: \"))\n",
    "\n",
    "    \n",
    "    result = numerator / denominator\n",
    "    print(\"Result:\", result)\n",
    "\n",
    "except ZeroDivisionError:\n",
    "    # Handle division by zero\n",
    "    print(\"Error: Cannot divide by zero.\")\n",
    "\n",
    "except ValueError:\n",
    "    # Handle if user doesn't enter valid numbers\n",
    "    print(\"Error: Please enter valid numbers.\")\n",
    "\n"
   ]
  },
  {
   "cell_type": "code",
   "execution_count": 27,
   "id": "beaace7a-9044-4b73-9486-cd39d2996c4a",
   "metadata": {},
   "outputs": [],
   "source": [
    "#6. write a python program thats logs and error message to a log file when a division by zero exception occurs."
   ]
  },
  {
   "cell_type": "code",
   "execution_count": 42,
   "id": "fc1c0183-8fbb-48e7-8aa0-159c24b8f23f",
   "metadata": {},
   "outputs": [
    {
     "name": "stdin",
     "output_type": "stream",
     "text": [
      "Enter the numerator:  5\n",
      "Enter the denominator:  7\n"
     ]
    },
    {
     "name": "stdout",
     "output_type": "stream",
     "text": [
      "Result: 0.7142857142857143\n"
     ]
    }
   ],
   "source": [
    "\n",
    "log_file = open(\"error_log.txt\", \"a\")  \n",
    "\n",
    "try:\n",
    "    # Ask user for numbers\n",
    "    num1 = int(input(\"Enter the numerator: \"))\n",
    "    num2 = int(input(\"Enter the denominator: \"))\n",
    "\n",
    "    # Try to divide\n",
    "    result = num1 / num2\n",
    "    print(\"Result:\", result)\n",
    "\n",
    "except ZeroDivisionError:\n",
    "    # If there's a division by zero, log the error\n",
    "    log_file.write(\"Error: Tried to divide by zero.\\n\")\n",
    "    print(\"You cannot divide by zero!\")\n",
    "\n",
    "# Close the log file\n",
    "log_file.close()\n"
   ]
  },
  {
   "cell_type": "code",
   "execution_count": null,
   "id": "021c5481-a36f-49af-a179-cdc16f2f1eea",
   "metadata": {},
   "outputs": [],
   "source": [
    "#7. How would you log information at different levels (INFO, ERROR , WARNING ) IN PYTHON USING THE LOGGING MODULE."
   ]
  },
  {
   "cell_type": "code",
   "execution_count": 1,
   "id": "9f1565e1-9419-42fb-8ce7-6f668ca854c2",
   "metadata": {},
   "outputs": [
    {
     "name": "stderr",
     "output_type": "stream",
     "text": [
      "INFO:root:This is an info message.\n",
      "WARNING:root:This is a warning message.\n",
      "ERROR:root:This is an error message.\n"
     ]
    }
   ],
   "source": [
    "import logging\n",
    "\n",
    "# Set up basic logging configuration\n",
    "logging.basicConfig(level=logging.INFO)\n",
    "\n",
    "# Log an info message\n",
    "logging.info(\"This is an info message.\")\n",
    "\n",
    "# Log a warning message\n",
    "logging.warning(\"This is a warning message.\")\n",
    "\n",
    "# Log an error message\n",
    "logging.error(\"This is an error message.\")\n"
   ]
  },
  {
   "cell_type": "code",
   "execution_count": null,
   "id": "505aaf35-c973-44b9-aa74-2bb89bed7b2e",
   "metadata": {},
   "outputs": [],
   "source": [
    "#8. write a program to handle a file opening error using exception handeling."
   ]
  },
  {
   "cell_type": "code",
   "execution_count": 18,
   "id": "39655db9-add1-4650-ad6f-0ab75aee5986",
   "metadata": {},
   "outputs": [
    {
     "name": "stdout",
     "output_type": "stream",
     "text": [
      "Error: The file was not found.\n"
     ]
    }
   ],
   "source": [
    "try:\n",
    "    # Try to open a file that might not exist\n",
    "    file = open(\"exam.txt\", \"r\")\n",
    "    content = file.read()\n",
    "    print(content)\n",
    "    file.close()\n",
    "\n",
    "except FileNotFoundError:\n",
    "    print(\"Error: The file was not found.\")\n",
    "\n",
    "except Exception as e:\n",
    "    print(\"An unexpected error occurred:\", e)\n"
   ]
  },
  {
   "cell_type": "code",
   "execution_count": null,
   "id": "fa19340d-3378-4095-8880-11783cb5375e",
   "metadata": {},
   "outputs": [],
   "source": [
    "#9. How cn you read a file line by line and store its content in a list in python? "
   ]
  },
  {
   "cell_type": "code",
   "execution_count": 22,
   "id": "72eeae0a-97e5-40b6-90e3-7df318961e82",
   "metadata": {},
   "outputs": [
    {
     "name": "stdout",
     "output_type": "stream",
     "text": [
      "['Hello, world!\\n', 'my name is shreya\\n', 'i live in kishanganj ']\n"
     ]
    }
   ],
   "source": [
    "try:\n",
    "    # Open the file in read mode\n",
    "    with open(\"example.txt\", \"r\") as file:\n",
    "        lines = file.readlines()  # Reads all lines into a list\n",
    "\n",
    "    # Print the list of lines\n",
    "    print(lines)\n",
    "\n",
    "except FileNotFoundError:\n",
    "    print(\"Error: The file was not found.\")\n"
   ]
  },
  {
   "cell_type": "code",
   "execution_count": null,
   "id": "121b5bf0-d926-40e1-9654-f8f8930d11b9",
   "metadata": {},
   "outputs": [],
   "source": [
    "#10.How can you append data to a existing file in python."
   ]
  },
  {
   "cell_type": "code",
   "execution_count": 36,
   "id": "f09f0b23-2ec3-4948-8fea-44d74486333a",
   "metadata": {},
   "outputs": [
    {
     "name": "stdout",
     "output_type": "stream",
     "text": [
      "Data has been appended to the file.\n",
      "\n",
      "File contents:\n",
      "\n",
      "Hello, world!\n",
      "my name is shreya\n",
      "i live in kishanganj This is a new line added to the file.\n",
      "This is a new line added to the file.\n",
      "This is a new line added to the file.\n",
      "This is a new line added to the file.\n",
      "This is a new line added to the file.\n",
      "This is a new line added to the file.\n",
      "\n"
     ]
    }
   ],
   "source": [
    "# Step 1: Append to the file\n",
    "with open(\"example.txt\", \"a\") as file:\n",
    "    file.write(\"This is a new line added to the file.\\n\")\n",
    "\n",
    "print(\"Data has been appended to the file.\")\n",
    "\n",
    "# Step 2: Read and print file contents to confirm\n",
    "with open(\"example.txt\", \"r\") as file:\n",
    "    contents = file.read()\n",
    "    print(\"\\nFile contents:\\n\")\n",
    "    print(contents)"
   ]
  },
  {
   "cell_type": "code",
   "execution_count": null,
   "id": "0724073c-6c5f-40a4-b2d6-6714a56a65aa",
   "metadata": {},
   "outputs": [],
   "source": [
    "#11. write a python program that uses a try, except block to handle an error when attempting to acess a dictionary key that doesnt exist."
   ]
  },
  {
   "cell_type": "code",
   "execution_count": null,
   "id": "99ce8065-1cf7-44a9-a4df-3c79ac7937f8",
   "metadata": {},
   "outputs": [],
   "source": [
    "#12.  Write a program thats demonstrate using multiple except blocks to handle different type of exceptions."
   ]
  },
  {
   "cell_type": "code",
   "execution_count": 53,
   "id": "f59ed27e-81f3-4cc8-b23a-f332f9ec61ca",
   "metadata": {},
   "outputs": [
    {
     "name": "stdin",
     "output_type": "stream",
     "text": [
      "Enter the first number:  23\n",
      "Enter the second number:  34\n"
     ]
    },
    {
     "name": "stdout",
     "output_type": "stream",
     "text": [
      "The result of 23 divided by 34 is 0.6764705882352942\n"
     ]
    }
   ],
   "source": [
    "\n",
    "# Ask the user to input two numbers for division\n",
    "try:\n",
    "    num1 = int(input(\"Enter the first number: \"))  # This might raise a ValueError\n",
    "    num2 = int(input(\"Enter the second number: \"))  # This might raise a ValueError\n",
    "\n",
    "    result = num1 / num2  # This might raise a ZeroDivisionError\n",
    "    print(f\"The result of {num1} divided by {num2} is {result}\")\n",
    "\n",
    "except ValueError:\n",
    "    print(\"Error: Please enter valid numbers. Only integers are allowed.\")\n",
    "\n",
    "except ZeroDivisionError:\n",
    "    print(\"Error: You can't divide by zero!\")\n",
    "\n",
    "except Exception as e:  # Catch any other unexpected exceptions\n",
    "    print(f\"An unexpected error occurred: {e}\")\n"
   ]
  },
  {
   "cell_type": "code",
   "execution_count": null,
   "id": "be631093-a4b7-4706-9e3e-a87d8913d5b8",
   "metadata": {},
   "outputs": [],
   "source": [
    "#11. write a python program that uses a try, except block to handle an error when attempting to acess a dictionary key that doesnt exist"
   ]
  },
  {
   "cell_type": "code",
   "execution_count": 55,
   "id": "034ad359-7bc9-437d-b835-46b1201279a1",
   "metadata": {},
   "outputs": [
    {
     "name": "stdin",
     "output_type": "stream",
     "text": [
      "Enter the student's name:  rohan\n"
     ]
    },
    {
     "name": "stdout",
     "output_type": "stream",
     "text": [
      "That student is not in the dictionary.\n"
     ]
    }
   ],
   "source": [
    "# A simple dictionary with student names and their grades\n",
    "grades = {\n",
    "    \"Ram\": 90,\n",
    "    \"shtam\": 80,\n",
    "    \"Chand\": 85\n",
    "}\n",
    "\n",
    "# Ask the user to enter a name to look up\n",
    "name = input(\"Enter the student's name: \")\n",
    "\n",
    "# Try to get the student's grade\n",
    "try:\n",
    "    print(f\"{name}'s grade is {grades[name]}\")\n",
    "except KeyError:\n",
    "    print(\"That student is not in the dictionary.\")\n"
   ]
  },
  {
   "cell_type": "code",
   "execution_count": null,
   "id": "5223496a-2749-47cb-a380-c6d77cb898e0",
   "metadata": {},
   "outputs": [],
   "source": [
    "#13.How would you check a file exist before attempting to read it in python?"
   ]
  },
  {
   "cell_type": "code",
   "execution_count": 71,
   "id": "aa821aca-caeb-48ce-82d2-7b8f33263271",
   "metadata": {},
   "outputs": [
    {
     "name": "stdin",
     "output_type": "stream",
     "text": [
      "Enter the file name (with extension, e.g., 'example.txt'):  grade\n"
     ]
    },
    {
     "name": "stdout",
     "output_type": "stream",
     "text": [
      "The file 'grade' does not exist.\n"
     ]
    }
   ],
   "source": [
    "import os\n",
    "\n",
    "\n",
    "file_name = input(\"Enter the file name (with extension, e.g., 'example.txt'): \")\n",
    "\n",
    "if os.path.exists(file_name):\n",
    "    \n",
    "    with open(file_name, 'r') as file:\n",
    "        content = file.read()\n",
    "        print(\"File content:\")\n",
    "        print(content)\n",
    "else:\n",
    "    print(f\"The file '{file_name}' does not exist.\")\n"
   ]
  },
  {
   "cell_type": "code",
   "execution_count": null,
   "id": "f5d3e3c9-46f4-43b5-9902-4efda20716af",
   "metadata": {},
   "outputs": [],
   "source": [
    "#14.write a program that uses a logging module to log both information and error messages."
   ]
  },
  {
   "cell_type": "code",
   "execution_count": 73,
   "id": "99bd5f91-b54f-4a16-8d04-86e2cb1f4cbc",
   "metadata": {},
   "outputs": [
    {
     "name": "stderr",
     "output_type": "stream",
     "text": [
      "INFO:root:This is an informational message.\n",
      "ERROR:root:An error occurred: division by zero\n",
      "INFO:root:Program completed successfully.\n"
     ]
    }
   ],
   "source": [
    "import logging\n",
    "\n",
    "\n",
    "logging.basicConfig(\n",
    "    filename='app.log',  \n",
    "    level=logging.DEBUG,  \n",
    "    format='%(asctime)s - %(levelname)s - %(message)s'  \n",
    ")\n",
    "\n",
    "# Log an informational message\n",
    "logging.info(\"This is an informational message.\")\n",
    "\n",
    "# Log an error message\n",
    "try:\n",
    "    result = 10 / 0  # This will raise a ZeroDivisionError\n",
    "except ZeroDivisionError as e:\n",
    "    logging.error(\"An error occurred: %s\", e)\n",
    "\n",
    "# Additional info logging\n",
    "logging.info(\"Program completed successfully.\")\n"
   ]
  },
  {
   "cell_type": "code",
   "execution_count": null,
   "id": "e5e09a9a-af07-47d0-9e75-1483fbce5ed9",
   "metadata": {},
   "outputs": [],
   "source": [
    "#15.write a python program that prints the content of a file that hndles the case when the file is empty."
   ]
  },
  {
   "cell_type": "code",
   "execution_count": 88,
   "id": "4e54d6b8-2d72-446c-9aed-787c07980363",
   "metadata": {},
   "outputs": [
    {
     "name": "stdin",
     "output_type": "stream",
     "text": [
      "Enter the file name (with extension, e.g., 'vinay.txt'):  vinay.txt\n"
     ]
    },
    {
     "name": "stdout",
     "output_type": "stream",
     "text": [
      "The file is empty.\n"
     ]
    }
   ],
   "source": [
    "# Ask the user for the file name\n",
    "file_name = input(\"Enter the file name (with extension, e.g., 'vinay.txt'): \")\n",
    "\n",
    "try:\n",
    "    # Open the file in read mode\n",
    "    with open(file_name, 'r') as file:\n",
    "        content = file.read()  # Read the content of the file\n",
    "        \n",
    "        # Check if the file is empty\n",
    "        if content == \"\":\n",
    "            print(\"The file is empty.\")\n",
    "        else:\n",
    "            print(\"File content:\")\n",
    "            print(content)\n",
    "\n",
    "except FileNotFoundError:\n",
    "    print(f\"The file '{file_name}' does not exist.\")\n",
    "except Exception as e:\n",
    "    print(f\"An error occurred: {e}\")\n"
   ]
  },
  {
   "cell_type": "code",
   "execution_count": null,
   "id": "88dfaf86-56ba-47e2-99ed-9b8fa9452d75",
   "metadata": {},
   "outputs": [],
   "source": [
    "#17. write a python program to create and write a list of numbers to a file ,one number per line."
   ]
  },
  {
   "cell_type": "code",
   "execution_count": 108,
   "id": "eff3eadc-6eaf-4c2b-9564-3d914bb1483d",
   "metadata": {},
   "outputs": [
    {
     "name": "stdout",
     "output_type": "stream",
     "text": [
      "Numbers have been written to 'numbers.txt'.\n"
     ]
    }
   ],
   "source": [
    "# List of numbers\n",
    "numbers = [1, 2, 3, 4, 5, 6, 7, 8, 9, 10]\n",
    "\n",
    "# Open the file in write mode\n",
    "with open(\"numbers.txt\", \"w\") as file:\n",
    "    # Write each number to the file, one per line\n",
    "    for number in numbers:\n",
    "        file.write(f\"{number}\\n\")\n",
    "\n",
    "print(\"Numbers have been written to 'numbers.txt'.\")\n"
   ]
  },
  {
   "cell_type": "code",
   "execution_count": null,
   "id": "3b40c897-b039-46df-835e-27a6bb1ae6ef",
   "metadata": {},
   "outputs": [],
   "source": [
    "#18. How would you implement a basic logging setup that logs to a file with rotationater 1MB."
   ]
  },
  {
   "cell_type": "code",
   "execution_count": 110,
   "id": "319538da-197a-45b8-8902-19c43e667ec0",
   "metadata": {},
   "outputs": [
    {
     "name": "stderr",
     "output_type": "stream",
     "text": [
      "DEBUG:root:This is a debug message.\n",
      "INFO:root:This is an informational message.\n",
      "WARNING:root:This is a warning message.\n",
      "ERROR:root:This is an error message.\n",
      "CRITICAL:root:This is a critical message.\n"
     ]
    },
    {
     "name": "stdout",
     "output_type": "stream",
     "text": [
      "Logging setup is complete. Logs will be written to 'app.log'.\n"
     ]
    }
   ],
   "source": [
    "import logging\n",
    "from logging.handlers import RotatingFileHandler\n",
    "\n",
    "# Set up logging configuration\n",
    "log_file = \"app.log\"\n",
    "\n",
    "# Create a rotating file handler that will rotate the log file after it exceeds 1MB\n",
    "handler = RotatingFileHandler(log_file, maxBytes=1*1024*1024, backupCount=3)  # 1MB max size and keep 3 backup files\n",
    "\n",
    "# Set up the logging format\n",
    "formatter = logging.Formatter('%(asctime)s - %(levelname)s - %(message)s')\n",
    "handler.setFormatter(formatter)\n",
    "\n",
    "# Get the root logger and set the level to DEBUG (you can change this to INFO or ERROR as needed)\n",
    "logger = logging.getLogger()\n",
    "logger.setLevel(logging.DEBUG)  # You can change the level to logging.INFO or logging.ERROR if needed\n",
    "\n",
    "# Add the handler to the logger\n",
    "logger.addHandler(handler)\n",
    "\n",
    "# Example log messages\n",
    "logger.debug(\"This is a debug message.\")\n",
    "logger.info(\"This is an informational message.\")\n",
    "logger.warning(\"This is a warning message.\")\n",
    "logger.error(\"This is an error message.\")\n",
    "logger.critical(\"This is a critical message.\")\n",
    "\n",
    "print(\"Logging setup is complete. Logs will be written to 'app.log'.\")\n"
   ]
  },
  {
   "cell_type": "code",
   "execution_count": null,
   "id": "dce3467b-d6d2-4a42-870b-1e127730441e",
   "metadata": {},
   "outputs": [],
   "source": [
    "#19. Write a program that handles both IndexError and KeyError using a try-except block. "
   ]
  },
  {
   "cell_type": "code",
   "execution_count": 123,
   "id": "ecce6751-b6c2-43cd-ba17-00f7e0a843a1",
   "metadata": {},
   "outputs": [
    {
     "name": "stdout",
     "output_type": "stream",
     "text": [
      "IndexError: The index you tried to access is out of range.\n",
      "Program continues after handling errors.\n"
     ]
    }
   ],
   "source": [
    "# Sample data: a list and a dictionary\n",
    "my_list = [1, 2, 3, 4, 5]\n",
    "my_dict = {'name': 'shreya', 'age': 25, 'city': 'kishanganj'}\n",
    "\n",
    "# Try to access an element from the list and the dictionary\n",
    "try:\n",
    "    # Access an element that may cause an IndexError\n",
    "    list_element = my_list[10]  # IndexError, as the list has only 5 elements\n",
    "    \n",
    "    # Access a key that may cause a KeyError\n",
    "    dict_value = my_dict['country']  # KeyError, as 'country' is not a key in the dictionary\n",
    "\n",
    "except IndexError:\n",
    "    print(\"IndexError: The index you tried to access is out of range.\")\n",
    "\n",
    "except KeyError:\n",
    "    print(\"KeyError: The key you tried to access does not exist in the dictionary.\")\n",
    "\n",
    "print(\"Program continues after handling errors.\")\n"
   ]
  },
  {
   "cell_type": "code",
   "execution_count": null,
   "id": "3e98ab51-e4e8-49d7-a884-cfc1f184d2af",
   "metadata": {},
   "outputs": [],
   "source": [
    " #20. How would you open a file react its contents using a context manager in python?"
   ]
  },
  {
   "cell_type": "code",
   "execution_count": 136,
   "id": "684d4a2a-6fb7-4ca2-8a47-f526675bedb6",
   "metadata": {},
   "outputs": [
    {
     "name": "stdin",
     "output_type": "stream",
     "text": [
      "Enter the file name:  example.txt\n"
     ]
    },
    {
     "name": "stdout",
     "output_type": "stream",
     "text": [
      "File Contents:\n",
      "Hello, world!\n",
      "my name is shreya\n",
      "i live in kishanganj This is a new line added to the file.\n",
      "This is a new line added to the file.\n",
      "This is a new line added to the file.\n",
      "This is a new line added to the file.\n",
      "This is a new line added to the file.\n",
      "This is a new line added to the file.\n",
      "\n"
     ]
    }
   ],
   "source": [
    "# Ask the user for the file name\n",
    "file_name = input(\"Enter the file name: \")\n",
    "\n",
    "try:\n",
    "    # Open the file using a context manager\n",
    "    with open(file_name, 'r') as file:\n",
    "        # Read the contents of the file\n",
    "        contents = file.read()\n",
    "        print(\"File Contents:\")\n",
    "        print(contents)\n",
    "\n",
    "except FileNotFoundError:\n",
    "    print(f\"The file '{file_name}' does not exist.\")\n",
    "except Exception as e:\n",
    "    print(f\"An error occurred: {e}\")\n"
   ]
  },
  {
   "cell_type": "code",
   "execution_count": null,
   "id": "916c3758-6464-4707-9c81-9a21b37c8c2e",
   "metadata": {},
   "outputs": [],
   "source": [
    "#21. Write a python program that reads a file and print the number of occurance of a specific word. "
   ]
  },
  {
   "cell_type": "code",
   "execution_count": 1,
   "id": "28fef5f6-9da8-468a-9002-ea80e57153f4",
   "metadata": {},
   "outputs": [
    {
     "name": "stdin",
     "output_type": "stream",
     "text": [
      "Enter the file name :  example.txt\n",
      "Enter the word you want to count:  added\n"
     ]
    },
    {
     "name": "stdout",
     "output_type": "stream",
     "text": [
      "The word 'added' appears 6 time(s) in the file.\n"
     ]
    }
   ],
   "source": [
    "# Ask the user for the file name\n",
    "file_name = input(\"Enter the file name : \")\n",
    "\n",
    "# Ask the user for the word to search\n",
    "word_to_find = input(\"Enter the word you want to count: \")\n",
    "\n",
    "try:\n",
    "    # Open the file in read mode\n",
    "    with open(file_name, 'r') as file:\n",
    "        text = file.read()  # Read all the text in the file\n",
    "\n",
    "    # Convert both the text and the word to lowercase (for case-insensitive search)\n",
    "    text = text.lower()\n",
    "    word_to_find = word_to_find.lower()\n",
    "\n",
    "    # Count how many times the word appears\n",
    "    word_list = text.split()  # Split text into individual words\n",
    "    count = word_list.count(word_to_find)  # Count the word\n",
    "\n",
    "    print(f\"The word '{word_to_find}' appears {count} time(s) in the file.\")\n",
    "\n",
    "except FileNotFoundError:\n",
    "    print(\"The file was not found.\")\n",
    "except Exception as e:\n",
    "    print(\"An error occurred:\", e)\n"
   ]
  },
  {
   "cell_type": "code",
   "execution_count": null,
   "id": "5b3a4f5c-4e69-4069-b46a-a19e4de07811",
   "metadata": {},
   "outputs": [],
   "source": [
    "#22. How can you check if afile is empty before attempting to read its contents?\n"
   ]
  },
  {
   "cell_type": "code",
   "execution_count": 19,
   "id": "c5c878dd-7b03-4c8e-8fed-6107501207a4",
   "metadata": {},
   "outputs": [
    {
     "name": "stdin",
     "output_type": "stream",
     "text": [
      "Enter the file name :  vinay.txt\n"
     ]
    },
    {
     "name": "stdout",
     "output_type": "stream",
     "text": [
      "The file is empty.\n"
     ]
    }
   ],
   "source": [
    "import os\n",
    "\n",
    "# Ask user for the file name\n",
    "file_name = input(\"Enter the file name : \")\n",
    "\n",
    "# Check if the file exists and is not empty\n",
    "if os.path.exists(file_name):\n",
    "    if os.path.getsize(file_name) == 0:\n",
    "        print(\"The file is empty.\")\n",
    "    else:\n",
    "        with open(file_name, 'r') as file:\n",
    "            content = file.read()\n",
    "            print(\"File contents:\")\n",
    "            print(content)\n",
    "else:\n",
    "    print(\"The file does not exist.\")\n"
   ]
  },
  {
   "cell_type": "code",
   "execution_count": null,
   "id": "6c98313a-8309-433b-a277-d671e04044f2",
   "metadata": {},
   "outputs": [],
   "source": [
    "#23. Write a python that writes to a log file when an error occurs during file handeling."
   ]
  },
  {
   "cell_type": "code",
   "execution_count": 21,
   "id": "4423acf0-5610-4fd5-9b47-8357b1c93393",
   "metadata": {},
   "outputs": [
    {
     "name": "stdin",
     "output_type": "stream",
     "text": [
      "Enter the name of the file to open:  example.txt\n"
     ]
    },
    {
     "name": "stdout",
     "output_type": "stream",
     "text": [
      "File content:\n",
      "Hello, world!\n",
      "my name is shreya\n",
      "i live in kishanganj This is a new line added to the file.\n",
      "This is a new line added to the file.\n",
      "This is a new line added to the file.\n",
      "This is a new line added to the file.\n",
      "This is a new line added to the file.\n",
      "This is a new line added to the file.\n",
      "\n"
     ]
    }
   ],
   "source": [
    "import logging\n",
    "\n",
    "# Set up simple logging to a file\n",
    "logging.basicConfig(\n",
    "    filename='error_log.txt',          # Name of the log file\n",
    "    level=logging.ERROR,               # Only log error messages\n",
    "    format='%(asctime)s - %(message)s' # Format: timestamp and message\n",
    ")\n",
    "\n",
    "# Ask the user for the file name\n",
    "file_name = input(\"Enter the name of the file to open: \")\n",
    "\n",
    "try:\n",
    "    # Try to open the file\n",
    "    with open(file_name, 'r') as file:\n",
    "        content = file.read()\n",
    "        print(\"File content:\")\n",
    "        print(content)\n",
    "\n",
    "except FileNotFoundError:\n",
    "    print(\"Error: The file was not found.\")\n",
    "    logging.error(\"File not found: %s\", file_name)\n",
    "\n",
    "except Exception as e:\n",
    "    print(\"An unexpected error happened.\")\n",
    "    logging.error(\"Unexpected error: %s\", str(e))\n"
   ]
  },
  {
   "cell_type": "code",
   "execution_count": null,
   "id": "de71f4f1-015f-4ce9-b3e7-a719e9497641",
   "metadata": {},
   "outputs": [],
   "source": []
  },
  {
   "cell_type": "code",
   "execution_count": null,
   "id": "d7cfcc0e-a32c-441e-bc83-8ac6a06cb88e",
   "metadata": {},
   "outputs": [],
   "source": []
  },
  {
   "cell_type": "code",
   "execution_count": null,
   "id": "a0c7d717-c689-4424-9161-02bd4766a80b",
   "metadata": {},
   "outputs": [],
   "source": []
  },
  {
   "cell_type": "code",
   "execution_count": null,
   "id": "1dde3939-6c7d-43d5-8b42-066581e864e0",
   "metadata": {},
   "outputs": [],
   "source": []
  },
  {
   "cell_type": "code",
   "execution_count": null,
   "id": "1fe98a94-d964-4846-adcb-cfb524db2745",
   "metadata": {},
   "outputs": [],
   "source": []
  },
  {
   "cell_type": "code",
   "execution_count": null,
   "id": "551248b2-5687-4f0c-b30f-bef0ddd84744",
   "metadata": {},
   "outputs": [],
   "source": []
  },
  {
   "cell_type": "code",
   "execution_count": null,
   "id": "e37b0ebd-9aac-4745-a55f-78661d58b79a",
   "metadata": {},
   "outputs": [],
   "source": []
  },
  {
   "cell_type": "code",
   "execution_count": null,
   "id": "0e088d4f-2c2e-493b-a468-eb94fb47a107",
   "metadata": {},
   "outputs": [],
   "source": []
  },
  {
   "cell_type": "code",
   "execution_count": null,
   "id": "4d67c44d-3f8d-4c7e-998a-2c85c7eaedbc",
   "metadata": {},
   "outputs": [],
   "source": []
  },
  {
   "cell_type": "code",
   "execution_count": null,
   "id": "d4715d1a-6099-41e1-ac1f-650e5605bbdc",
   "metadata": {},
   "outputs": [],
   "source": []
  },
  {
   "cell_type": "code",
   "execution_count": null,
   "id": "35dcb75e-133c-4f11-a0a7-396d016feb6d",
   "metadata": {},
   "outputs": [],
   "source": []
  },
  {
   "cell_type": "code",
   "execution_count": null,
   "id": "2736c351-4166-4a91-8114-83122b9d0239",
   "metadata": {},
   "outputs": [],
   "source": []
  },
  {
   "cell_type": "code",
   "execution_count": null,
   "id": "6cda8ba7-3c5c-4ff1-90f1-2d8f193bf5b5",
   "metadata": {},
   "outputs": [],
   "source": []
  }
 ],
 "metadata": {
  "kernelspec": {
   "display_name": "Python [conda env:base] *",
   "language": "python",
   "name": "conda-base-py"
  },
  "language_info": {
   "codemirror_mode": {
    "name": "ipython",
    "version": 3
   },
   "file_extension": ".py",
   "mimetype": "text/x-python",
   "name": "python",
   "nbconvert_exporter": "python",
   "pygments_lexer": "ipython3",
   "version": "3.12.7"
  }
 },
 "nbformat": 4,
 "nbformat_minor": 5
}
